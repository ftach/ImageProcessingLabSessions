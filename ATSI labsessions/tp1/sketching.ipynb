{
 "cells": [
  {
   "cell_type": "markdown",
   "metadata": {},
   "source": []
  },
  {
   "cell_type": "code",
   "execution_count": 2,
   "metadata": {},
   "outputs": [],
   "source": [
    "import numpy as np\n",
    "import skimage.io as skio\n",
    "from os.path import join\n",
    "import scipy.ndimage as scnd\n",
    "import skimage.filters as skf\n",
    "from skimage import color\n",
    "\n",
    "import skimage as sk\n",
    "import skimage.data as skd\n",
    "import matplotlib.pyplot as plt"
   ]
  },
  {
   "cell_type": "code",
   "execution_count": 3,
   "metadata": {},
   "outputs": [
    {
     "ename": "AttributeError",
     "evalue": "'numpy.ndarray' object has no attribute 'imshow'",
     "output_type": "error",
     "traceback": [
      "\u001b[1;31m---------------------------------------------------------------------------\u001b[0m",
      "\u001b[1;31mAttributeError\u001b[0m                            Traceback (most recent call last)",
      "Cell \u001b[1;32mIn [3], line 3\u001b[0m\n\u001b[0;32m      1\u001b[0m img \u001b[39m=\u001b[39m skio\u001b[39m.\u001b[39mimread(\u001b[39m\"\u001b[39m\u001b[39mphoto_identite.jpg\u001b[39m\u001b[39m\"\u001b[39m)\n\u001b[0;32m      2\u001b[0m \u001b[39m#img = color.rgb2gray(img)\u001b[39;00m\n\u001b[1;32m----> 3\u001b[0m img\u001b[39m.\u001b[39;49mimshow()\n",
      "\u001b[1;31mAttributeError\u001b[0m: 'numpy.ndarray' object has no attribute 'imshow'"
     ]
    }
   ],
   "source": [
    "img = skio.imread(\"photo_identite.jpg\")\n",
    "#img = color.rgb2gray(img)\n"
   ]
  },
  {
   "cell_type": "markdown",
   "metadata": {},
   "source": [
    "Compute luminance"
   ]
  },
  {
   "cell_type": "code",
   "execution_count": null,
   "metadata": {},
   "outputs": [],
   "source": [
    "size = img.shape\n",
    "img_l = np.zeros(size)\n",
    "img_l[:,:,0] = 0.298*img[:,:,0] \n",
    "img_l[:,:,1] = 0.586*img[:,:,1] \n",
    "img_l[:,:,2] = 0.1148*img[:,:,2]\n"
   ]
  }
 ],
 "metadata": {
  "kernelspec": {
   "display_name": "Python 3.9.13 64-bit",
   "language": "python",
   "name": "python3"
  },
  "language_info": {
   "codemirror_mode": {
    "name": "ipython",
    "version": 3
   },
   "file_extension": ".py",
   "mimetype": "text/x-python",
   "name": "python",
   "nbconvert_exporter": "python",
   "pygments_lexer": "ipython3",
   "version": "3.9.13"
  },
  "orig_nbformat": 4,
  "vscode": {
   "interpreter": {
    "hash": "517da064f6d1f3af3cee9b8300d52c6aac557afab54e540b991e49354cc462aa"
   }
  }
 },
 "nbformat": 4,
 "nbformat_minor": 2
}
